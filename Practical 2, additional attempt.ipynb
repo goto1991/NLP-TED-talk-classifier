{
 "cells": [
  {
   "cell_type": "markdown",
   "metadata": {},
   "source": [
    "NLP Practical 2 (faking data and equal representation)"
   ]
  },
  {
   "cell_type": "code",
   "execution_count": 1,
   "metadata": {
    "collapsed": true
   },
   "outputs": [],
   "source": [
    "import numpy as np\n",
    "import os\n",
    "from random import shuffle\n",
    "import re\n",
    "import sklearn as sk\n",
    "import matplotlib.pyplot as plt\n",
    "import random"
   ]
  },
  {
   "cell_type": "code",
   "execution_count": 2,
   "metadata": {
    "collapsed": true
   },
   "outputs": [],
   "source": [
    "import urllib.request\n",
    "import zipfile\n",
    "import lxml.etree"
   ]
  },
  {
   "cell_type": "code",
   "execution_count": 3,
   "metadata": {
    "collapsed": true
   },
   "outputs": [],
   "source": [
    "import tensorflow as tf"
   ]
  },
  {
   "cell_type": "code",
   "execution_count": 4,
   "metadata": {
    "collapsed": true
   },
   "outputs": [],
   "source": [
    "with zipfile.ZipFile('ted_en-20160408.zip', 'r') as z:\n",
    "    doc = lxml.etree.parse(z.open('ted_en-20160408.xml', 'r'))\n",
    "    \n",
    "input_text = doc.xpath('//content/text()')\n",
    "input_label = doc.xpath('//head/keywords/text()')\n",
    "\n",
    "del doc"
   ]
  },
  {
   "cell_type": "code",
   "execution_count": 5,
   "metadata": {
    "collapsed": true
   },
   "outputs": [],
   "source": [
    "talk_sentences = []\n",
    "talknum = len(input_text)\n",
    "\n",
    "for i in range(talknum):\n",
    "    temp = re.sub(r'\\([^)]*\\)', '', input_text[i])\n",
    "    temp = re.sub(r'\\n', '', input_text[i])\n",
    "    temp = temp.split('.')\n",
    "    talk_sentences.append(temp)"
   ]
  },
  {
   "cell_type": "code",
   "execution_count": 6,
   "metadata": {},
   "outputs": [
    {
     "name": "stdout",
     "output_type": "stream",
     "text": [
      "To me the real, real solution to quality growth is figuring out the balance between two activities: exploration and exploitation\n"
     ]
    }
   ],
   "source": [
    "print(talk_sentences[0][1])"
   ]
  },
  {
   "cell_type": "code",
   "execution_count": 7,
   "metadata": {
    "collapsed": true
   },
   "outputs": [],
   "source": [
    "talk_sentences_token = []\n",
    "\n",
    "for talk in talk_sentences:\n",
    "    temp = []\n",
    "    for sent in talk:\n",
    "        tokens = re.sub(r\"[^a-z0-9]+\", \" \", sent.lower()).split()\n",
    "        temp.append(tokens)#\n",
    "    talk_sentences_token.append(temp)"
   ]
  },
  {
   "cell_type": "code",
   "execution_count": 8,
   "metadata": {},
   "outputs": [
    {
     "data": {
      "text/plain": [
       "['to',\n",
       " 'me',\n",
       " 'the',\n",
       " 'real',\n",
       " 'real',\n",
       " 'solution',\n",
       " 'to',\n",
       " 'quality',\n",
       " 'growth',\n",
       " 'is',\n",
       " 'figuring',\n",
       " 'out',\n",
       " 'the',\n",
       " 'balance',\n",
       " 'between',\n",
       " 'two',\n",
       " 'activities',\n",
       " 'exploration',\n",
       " 'and',\n",
       " 'exploitation']"
      ]
     },
     "execution_count": 8,
     "metadata": {},
     "output_type": "execute_result"
    }
   ],
   "source": [
    "talk_sentences_token[0][1]"
   ]
  },
  {
   "cell_type": "code",
   "execution_count": 9,
   "metadata": {
    "collapsed": true
   },
   "outputs": [],
   "source": [
    "input_label_prepro = []\n",
    "\n",
    "for i in range(len(input_label)):\n",
    "    temp = re.sub(r' ', '', input_label[i])\n",
    "    input_label_prepro.append(temp.split(','))\n",
    "    \n",
    "#print(input_label_prepro)"
   ]
  },
  {
   "cell_type": "code",
   "execution_count": 10,
   "metadata": {},
   "outputs": [
    {
     "name": "stdout",
     "output_type": "stream",
     "text": [
      "['talks', 'Senses', 'augmentedreality', 'brain', 'computers', 'creativity', 'cyborg', 'demo', 'design', 'engineering', 'entrepreneur', 'innovation', 'interfacedesign', 'invention', 'neuroscience', 'potential', 'prediction', 'productdesign', 'technology', 'visualizations']\n",
      "[array([ 0.,  0.,  0.]), array([ 0.,  0.,  0.]), array([ 0.,  0.,  0.]), array([ 0.,  0.,  1.]), array([ 1.,  0.,  1.]), array([ 0.,  0.,  0.]), array([ 0.,  0.,  0.]), array([ 0.,  0.,  0.]), array([ 0.,  0.,  0.]), array([ 1.,  0.,  1.])]\n"
     ]
    }
   ],
   "source": [
    "labels = []\n",
    "\n",
    "for i in range(len(input_label_prepro)):\n",
    "    temp = np.zeros(3)\n",
    "    if 'technology' in '~'.join(input_label_prepro[i]):\n",
    "        temp[0] = 1\n",
    "    if 'entertainment' in '~'.join(input_label_prepro[i]):\n",
    "        temp[1] = 1\n",
    "    if 'design' in '~'.join(input_label_prepro[i]):\n",
    "        temp[2] = 1\n",
    "    labels.append(temp)\n",
    "        \n",
    "print(input_label_prepro[9])\n",
    "print(labels[:10])"
   ]
  },
  {
   "cell_type": "code",
   "execution_count": 11,
   "metadata": {
    "collapsed": true
   },
   "outputs": [],
   "source": [
    "# labels_onehot = np.zeros(len(input_label_prepro), 8)\n",
    "# for i in range(len(input_label_prepro)):\n",
    "#     labels_onehot[i][labels[i][0]*4+labels[i][1]*2+labels[i][2]*1] = 1"
   ]
  },
  {
   "cell_type": "code",
   "execution_count": 12,
   "metadata": {
    "collapsed": true
   },
   "outputs": [],
   "source": [
    "labels_onehot = []\n",
    "for i in range(len(input_label_prepro)):\n",
    "    temp = np.zeros(8)\n",
    "    hot = labels[i][0]*4+labels[i][1]*2+labels[i][2]*1\n",
    "    temp[int(hot)] = 1\n",
    "    labels_onehot.append(temp)"
   ]
  },
  {
   "cell_type": "code",
   "execution_count": 13,
   "metadata": {},
   "outputs": [
    {
     "data": {
      "text/plain": [
       "[array([ 1.,  0.,  0.,  0.,  0.,  0.,  0.,  0.]),\n",
       " array([ 1.,  0.,  0.,  0.,  0.,  0.,  0.,  0.]),\n",
       " array([ 1.,  0.,  0.,  0.,  0.,  0.,  0.,  0.]),\n",
       " array([ 0.,  1.,  0.,  0.,  0.,  0.,  0.,  0.]),\n",
       " array([ 0.,  0.,  0.,  0.,  0.,  1.,  0.,  0.]),\n",
       " array([ 1.,  0.,  0.,  0.,  0.,  0.,  0.,  0.]),\n",
       " array([ 1.,  0.,  0.,  0.,  0.,  0.,  0.,  0.]),\n",
       " array([ 1.,  0.,  0.,  0.,  0.,  0.,  0.,  0.]),\n",
       " array([ 1.,  0.,  0.,  0.,  0.,  0.,  0.,  0.]),\n",
       " array([ 0.,  0.,  0.,  0.,  0.,  1.,  0.,  0.])]"
      ]
     },
     "execution_count": 13,
     "metadata": {},
     "output_type": "execute_result"
    }
   ],
   "source": [
    "labels_onehot[:10]"
   ]
  },
  {
   "cell_type": "code",
   "execution_count": 14,
   "metadata": {
    "collapsed": true
   },
   "outputs": [],
   "source": [
    "train_data = talk_sentences_token[:1835]\n",
    "test_data = talk_sentences_token[1835:]\n",
    "\n",
    "train_labels_onehot = labels_onehot[:1835]\n",
    "test_labels_onehot = labels_onehot[1835:]"
   ]
  },
  {
   "cell_type": "code",
   "execution_count": 15,
   "metadata": {
    "collapsed": true
   },
   "outputs": [],
   "source": [
    "doc = open(\"stopwords.txt\", \"r\")\n",
    "stopwords = doc.read().split('\\n')"
   ]
  },
  {
   "cell_type": "code",
   "execution_count": 16,
   "metadata": {},
   "outputs": [
    {
     "name": "stdout",
     "output_type": "stream",
     "text": [
      "(2085,)\n",
      "(2085, 8)\n",
      "(1835,)\n",
      "(1835, 8)\n",
      "(250,)\n",
      "(250, 8)\n"
     ]
    }
   ],
   "source": [
    "print(np.shape(talk_sentences_token))\n",
    "print(np.shape(labels_onehot))\n",
    "print(np.shape(train_data))\n",
    "print(np.shape(train_labels_onehot))\n",
    "print(np.shape(test_data))\n",
    "print(np.shape(test_labels_onehot))"
   ]
  },
  {
   "cell_type": "code",
   "execution_count": 17,
   "metadata": {
    "scrolled": true
   },
   "outputs": [
    {
     "name": "stdout",
     "output_type": "stream",
     "text": [
      "[ 0.57493188  0.0746594   0.0719346   0.00980926  0.17711172  0.06376022\n",
      "  0.01525886  0.01253406]\n",
      "[ 0.292  0.108  0.164  0.024  0.224  0.112  0.032  0.044]\n"
     ]
    }
   ],
   "source": [
    "check = np.asarray(train_labels_onehot)\n",
    "print(check.sum(0) / check.sum())\n",
    "check = np.asarray(test_labels_onehot)\n",
    "print(check.sum(0) / check.sum())"
   ]
  },
  {
   "cell_type": "code",
   "execution_count": 18,
   "metadata": {},
   "outputs": [
    {
     "name": "stdout",
     "output_type": "stream",
     "text": [
      "220963\n"
     ]
    }
   ],
   "source": [
    "train_sent = []\n",
    "\n",
    "for i in range(len(train_data)):\n",
    "    for sent in train_data[i]:\n",
    "        train_sent.append(sent)\n",
    "    \n",
    "print(np.size(train_sent))"
   ]
  },
  {
   "cell_type": "code",
   "execution_count": 19,
   "metadata": {
    "scrolled": true
   },
   "outputs": [
    {
     "name": "stderr",
     "output_type": "stream",
     "text": [
      "C:\\Users\\lgligic\\Anaconda3\\envs\\tensorflow\\lib\\site-packages\\gensim\\utils.py:855: UserWarning: detected Windows; aliasing chunkize to chunkize_serial\n",
      "  warnings.warn(\"detected Windows; aliasing chunkize to chunkize_serial\")\n"
     ]
    }
   ],
   "source": [
    "from gensim.models import Word2Vec"
   ]
  },
  {
   "cell_type": "code",
   "execution_count": 20,
   "metadata": {
    "collapsed": true
   },
   "outputs": [],
   "source": [
    "model_ted = Word2Vec(train_sent, min_count=1, size=100)"
   ]
  },
  {
   "cell_type": "code",
   "execution_count": 21,
   "metadata": {},
   "outputs": [
    {
     "data": {
      "text/plain": [
       "True"
      ]
     },
     "execution_count": 21,
     "metadata": {},
     "output_type": "execute_result"
    }
   ],
   "source": [
    "'hello' in model_ted.wv.vocab.keys()"
   ]
  },
  {
   "cell_type": "code",
   "execution_count": 22,
   "metadata": {},
   "outputs": [
    {
     "data": {
      "text/plain": [
       "False"
      ]
     },
     "execution_count": 22,
     "metadata": {},
     "output_type": "execute_result"
    }
   ],
   "source": [
    "'technology' in stopwords"
   ]
  },
  {
   "cell_type": "code",
   "execution_count": 23,
   "metadata": {},
   "outputs": [
    {
     "name": "stdout",
     "output_type": "stream",
     "text": [
      "2091.7547683923704\n",
      "2615.152\n"
     ]
    }
   ],
   "source": [
    "c = 0\n",
    "for talk in train_data:\n",
    "    for sent in talk:\n",
    "        for word in sent:\n",
    "            c += 1\n",
    "print(c / len(train_data))\n",
    "\n",
    "c = 0\n",
    "for talk in test_data:\n",
    "    for sent in talk:\n",
    "        for word in sent:\n",
    "            c += 1\n",
    "print(c / len(test_data))"
   ]
  },
  {
   "cell_type": "code",
   "execution_count": 24,
   "metadata": {},
   "outputs": [
    {
     "data": {
      "text/plain": [
       "array([ 1055.,   137.,   132.,    18.,   325.,   117.,    28.,    23.])"
      ]
     },
     "execution_count": 24,
     "metadata": {},
     "output_type": "execute_result"
    }
   ],
   "source": [
    "sum(train_labels_onehot)"
   ]
  },
  {
   "cell_type": "code",
   "execution_count": 25,
   "metadata": {},
   "outputs": [
    {
     "name": "stdout",
     "output_type": "stream",
     "text": [
      "1439131\n",
      "607421\n",
      "125761\n",
      "7876\n",
      "87\n",
      "0\n"
     ]
    }
   ],
   "source": [
    "removed = 1\n",
    "while removed != 0:\n",
    "    removed = 0\n",
    "    t = 0\n",
    "    for talk in train_data:\n",
    "        s = 0\n",
    "        for sent in talk:\n",
    "            for word in sent:\n",
    "                if word in stopwords:\n",
    "                    train_data[t][s].remove(word)\n",
    "                    removed += 1\n",
    "            s += 1\n",
    "        t += 1\n",
    "    print(removed)"
   ]
  },
  {
   "cell_type": "code",
   "execution_count": 26,
   "metadata": {},
   "outputs": [
    {
     "name": "stdout",
     "output_type": "stream",
     "text": [
      "245657\n",
      "104781\n",
      "21908\n",
      "1389\n",
      "18\n",
      "0\n"
     ]
    }
   ],
   "source": [
    "removed = 1\n",
    "while removed != 0:\n",
    "    removed = 0\n",
    "    t = 0\n",
    "    for talk in test_data:\n",
    "        s = 0\n",
    "        for sent in talk:\n",
    "            for word in sent:\n",
    "                if word in stopwords:\n",
    "                    test_data[t][s].remove(word)\n",
    "                    removed += 1\n",
    "            s += 1\n",
    "        t += 1\n",
    "    print(removed)"
   ]
  },
  {
   "cell_type": "code",
   "execution_count": 27,
   "metadata": {},
   "outputs": [
    {
     "name": "stdout",
     "output_type": "stream",
     "text": [
      "2114\n",
      "561\n",
      "153\n",
      "41\n",
      "5\n",
      "0\n"
     ]
    }
   ],
   "source": [
    "removed = 1\n",
    "while removed != 0:\n",
    "    removed = 0\n",
    "    t = 0\n",
    "    for talk in train_data:\n",
    "        s = 0\n",
    "        for sent in talk:\n",
    "            if len(sent) == 0:\n",
    "                train_data[t].remove(sent)\n",
    "                removed += 1\n",
    "            s += 1\n",
    "        t += 1\n",
    "    print(removed)"
   ]
  },
  {
   "cell_type": "code",
   "execution_count": 28,
   "metadata": {},
   "outputs": [
    {
     "name": "stdout",
     "output_type": "stream",
     "text": [
      "550\n",
      "179\n",
      "58\n",
      "15\n",
      "5\n",
      "1\n",
      "0\n"
     ]
    }
   ],
   "source": [
    "removed = 1\n",
    "while removed != 0:\n",
    "    removed = 0\n",
    "    t = 0\n",
    "    for talk in test_data:\n",
    "        s = 0\n",
    "        for sent in talk:\n",
    "            if len(sent) == 0:\n",
    "                test_data[t].remove(sent)\n",
    "                removed += 1\n",
    "            s += 1\n",
    "        t += 1\n",
    "    print(removed)"
   ]
  },
  {
   "cell_type": "code",
   "execution_count": 29,
   "metadata": {},
   "outputs": [
    {
     "name": "stdout",
     "output_type": "stream",
     "text": [
      "903.5934604904633\n",
      "1120.14\n"
     ]
    }
   ],
   "source": [
    "c = 0\n",
    "for talk in train_data:\n",
    "    for sent in talk:\n",
    "        for word in sent:\n",
    "            c += 1\n",
    "print(c / len(train_data))\n",
    "\n",
    "c = 0\n",
    "for talk in test_data:\n",
    "    for sent in talk:\n",
    "        for word in sent:\n",
    "            c += 1\n",
    "print(c / len(test_data))"
   ]
  },
  {
   "cell_type": "code",
   "execution_count": 30,
   "metadata": {},
   "outputs": [],
   "source": [
    "import random\n",
    "\n",
    "train_data_expanded = train_data\n",
    "train_labels_onehot_expanded = train_labels_onehot\n",
    "\n",
    "for i in range(7):\n",
    "    pool = np.array(train_data)[np.array(train_labels_onehot)[:,i+1] == 1]\n",
    "    for j in range(int(sum(train_labels_onehot)[0] - sum(train_labels_onehot)[i+1])):\n",
    "        temptext = []\n",
    "        templabel = np.zeros(8)\n",
    "        for k in range(1000):\n",
    "            talk = random.choice(pool)\n",
    "            sent = random.choice(talk)\n",
    "            word = random.choice(sent)\n",
    "            temptext.append(word)\n",
    "        train_data_expanded.append(temptext)\n",
    "        templabel[i+1] = 1\n",
    "        train_labels_onehot_expanded.append(templabel)        "
   ]
  },
  {
   "cell_type": "code",
   "execution_count": 34,
   "metadata": {},
   "outputs": [
    {
     "name": "stdout",
     "output_type": "stream",
     "text": [
      "8440\n",
      "8440\n",
      "[ 1055.  1055.  1055.  1055.  1055.  1055.  1055.  1055.]\n"
     ]
    }
   ],
   "source": [
    "print(len(train_data_expanded))\n",
    "print(len(train_labels_onehot_expanded))\n",
    "print(sum(train_labels_onehot_expanded))"
   ]
  },
  {
   "cell_type": "code",
   "execution_count": 35,
   "metadata": {},
   "outputs": [
    {
     "name": "stdout",
     "output_type": "stream",
     "text": [
      "8440\n"
     ]
    }
   ],
   "source": [
    "train_bow = []\n",
    "\n",
    "for talk in train_data_expanded:\n",
    "    bow = np.zeros(100)\n",
    "    count = 0\n",
    "    for sent in talk:\n",
    "        for word in sent:\n",
    "            bow += model_ted[word]\n",
    "            count += 1\n",
    "    bow = bow / count\n",
    "    train_bow.append(bow)\n",
    "    \n",
    "print(len(train_bow))"
   ]
  },
  {
   "cell_type": "code",
   "execution_count": 36,
   "metadata": {},
   "outputs": [
    {
     "name": "stdout",
     "output_type": "stream",
     "text": [
      "250\n"
     ]
    }
   ],
   "source": [
    "test_bow = []\n",
    "\n",
    "for talk in test_data:\n",
    "    bow = np.zeros(100)\n",
    "    count = 0\n",
    "    for sent in talk:\n",
    "        for word in sent:\n",
    "            if word in model_ted.wv.vocab.keys():\n",
    "                bow += model_ted[word]\n",
    "                count += 1\n",
    "    bow = bow / count\n",
    "    test_bow.append(bow)\n",
    "    \n",
    "print(len(test_bow))"
   ]
  },
  {
   "cell_type": "code",
   "execution_count": 37,
   "metadata": {
    "collapsed": true
   },
   "outputs": [],
   "source": [
    "class Iterator():\n",
    "    def __init__(self, texts, labels):\n",
    "        self.texts = texts\n",
    "        self.labels = labels\n",
    "        self.size = len(self.texts)\n",
    "        self.epochs = 0\n",
    "        self.shuffle()\n",
    "\n",
    "    def shuffle(self):\n",
    "        temp = list(zip(self.texts, self.labels))\n",
    "        random.shuffle(temp)\n",
    "        self.texts, self.labels = zip(*temp)\n",
    "        self.cursor = 0\n",
    "\n",
    "    def next_batch(self, n):\n",
    "        if self.cursor+n > self.size:\n",
    "            self.epochs += 1\n",
    "            self.shuffle()\n",
    "        res_texts = self.texts[self.cursor:self.cursor+n]\n",
    "        res_labels = self.labels[self.cursor:self.cursor+n]\n",
    "        self.cursor += n\n",
    "        return res_texts, res_labels"
   ]
  },
  {
   "cell_type": "code",
   "execution_count": 38,
   "metadata": {
    "collapsed": true
   },
   "outputs": [],
   "source": [
    "def weight_variable(shape):\n",
    "    initial = tf.truncated_normal(shape, stddev=0.05)\n",
    "    return tf.Variable(initial)\n",
    "\n",
    "def bias_variable(shape):\n",
    "    initial = tf.constant(0.1, shape=shape)\n",
    "    return tf.Variable(initial)"
   ]
  },
  {
   "cell_type": "code",
   "execution_count": 46,
   "metadata": {},
   "outputs": [
    {
     "name": "stdout",
     "output_type": "stream",
     "text": [
      "WARNING:tensorflow:From <ipython-input-46-155f7f41d976>:38: initialize_all_variables (from tensorflow.python.ops.variables) is deprecated and will be removed after 2017-03-02.\n",
      "Instructions for updating:\n",
      "Use `tf.global_variables_initializer` instead.\n",
      "0\n",
      "Epoch: 0, Training Accuracy: 0.200000, Test Accuracy: 0.164000\n",
      "Epoch: 59, Training Accuracy: 0.460000, Test Accuracy: 0.292000\n",
      "Epoch: 119, Training Accuracy: 0.580000, Test Accuracy: 0.292000\n",
      "Epoch: 178, Training Accuracy: 0.620000, Test Accuracy: 0.292000\n",
      "Epoch: 238, Training Accuracy: 0.600000, Test Accuracy: 0.292000\n",
      "Epoch: 297, Training Accuracy: 0.660000, Test Accuracy: 0.292000\n",
      "Epoch: 357, Training Accuracy: 0.500000, Test Accuracy: 0.300000\n",
      "Epoch: 416, Training Accuracy: 0.660000, Test Accuracy: 0.324000\n",
      "Epoch: 476, Training Accuracy: 0.640000, Test Accuracy: 0.300000\n",
      "Epoch: 535, Training Accuracy: 0.640000, Test Accuracy: 0.312000\n",
      "Epoch: 595, Training Accuracy: 0.680000, Test Accuracy: 0.320000\n",
      "Epoch: 654, Training Accuracy: 0.560000, Test Accuracy: 0.320000\n",
      "Epoch: 714, Training Accuracy: 0.640000, Test Accuracy: 0.324000\n",
      "Epoch: 773, Training Accuracy: 0.800000, Test Accuracy: 0.332000\n",
      "Epoch: 833, Training Accuracy: 0.460000, Test Accuracy: 0.340000\n",
      "Epoch: 892, Training Accuracy: 0.520000, Test Accuracy: 0.328000\n",
      "Epoch: 952, Training Accuracy: 0.520000, Test Accuracy: 0.324000\n",
      "Epoch: 1011, Training Accuracy: 0.480000, Test Accuracy: 0.328000\n",
      "Epoch: 1071, Training Accuracy: 0.720000, Test Accuracy: 0.332000\n",
      "Epoch: 1130, Training Accuracy: 0.620000, Test Accuracy: 0.320000\n",
      "Epoch: 1190, Training Accuracy: 0.580000, Test Accuracy: 0.324000\n",
      "Epoch: 1250, Training Accuracy: 0.660000, Test Accuracy: 0.320000\n",
      "Epoch: 1309, Training Accuracy: 0.600000, Test Accuracy: 0.348000\n",
      "Epoch: 1369, Training Accuracy: 0.600000, Test Accuracy: 0.308000\n",
      "Epoch: 1428, Training Accuracy: 0.640000, Test Accuracy: 0.328000\n",
      "Epoch: 1488, Training Accuracy: 0.400000, Test Accuracy: 0.328000\n",
      "Epoch: 1547, Training Accuracy: 0.680000, Test Accuracy: 0.336000\n",
      "Epoch: 1607, Training Accuracy: 0.580000, Test Accuracy: 0.332000\n",
      "Epoch: 1666, Training Accuracy: 0.600000, Test Accuracy: 0.328000\n",
      "Epoch: 1726, Training Accuracy: 0.600000, Test Accuracy: 0.328000\n",
      "Epoch: 1785, Training Accuracy: 0.740000, Test Accuracy: 0.332000\n",
      "Epoch: 1845, Training Accuracy: 0.700000, Test Accuracy: 0.344000\n",
      "Epoch: 1904, Training Accuracy: 0.620000, Test Accuracy: 0.328000\n",
      "Epoch: 1964, Training Accuracy: 0.680000, Test Accuracy: 0.336000\n",
      "Epoch: 2023, Training Accuracy: 0.620000, Test Accuracy: 0.328000\n",
      "Epoch: 2083, Training Accuracy: 0.520000, Test Accuracy: 0.336000\n",
      "Epoch: 2142, Training Accuracy: 0.740000, Test Accuracy: 0.332000\n",
      "Epoch: 2202, Training Accuracy: 0.640000, Test Accuracy: 0.328000\n",
      "Epoch: 2261, Training Accuracy: 0.560000, Test Accuracy: 0.344000\n",
      "Epoch: 2321, Training Accuracy: 0.780000, Test Accuracy: 0.332000\n",
      "Epoch: 2380, Training Accuracy: 0.680000, Test Accuracy: 0.340000\n",
      "Epoch: 2440, Training Accuracy: 0.600000, Test Accuracy: 0.328000\n",
      "Epoch: 2500, Training Accuracy: 0.720000, Test Accuracy: 0.332000\n",
      "Epoch: 2559, Training Accuracy: 0.620000, Test Accuracy: 0.340000\n",
      "Epoch: 2619, Training Accuracy: 0.640000, Test Accuracy: 0.328000\n",
      "Epoch: 2678, Training Accuracy: 0.500000, Test Accuracy: 0.336000\n",
      "Epoch: 2738, Training Accuracy: 0.560000, Test Accuracy: 0.344000\n",
      "Epoch: 2797, Training Accuracy: 0.400000, Test Accuracy: 0.336000\n",
      "Epoch: 2857, Training Accuracy: 0.620000, Test Accuracy: 0.340000\n",
      "Epoch: 2916, Training Accuracy: 0.400000, Test Accuracy: 0.340000\n",
      "Epoch: 2976, Training Accuracy: 0.700000, Test Accuracy: 0.328000\n",
      "Epoch: 3035, Training Accuracy: 0.640000, Test Accuracy: 0.328000\n",
      "Epoch: 3095, Training Accuracy: 0.680000, Test Accuracy: 0.336000\n",
      "Epoch: 3154, Training Accuracy: 0.600000, Test Accuracy: 0.340000\n",
      "Epoch: 3214, Training Accuracy: 0.680000, Test Accuracy: 0.328000\n",
      "Epoch: 3273, Training Accuracy: 0.680000, Test Accuracy: 0.328000\n",
      "Epoch: 3333, Training Accuracy: 0.680000, Test Accuracy: 0.324000\n",
      "Epoch: 3392, Training Accuracy: 0.620000, Test Accuracy: 0.332000\n",
      "Epoch: 3452, Training Accuracy: 0.560000, Test Accuracy: 0.340000\n",
      "Epoch: 3511, Training Accuracy: 0.640000, Test Accuracy: 0.328000\n"
     ]
    },
    {
     "ename": "KeyboardInterrupt",
     "evalue": "",
     "output_type": "error",
     "traceback": [
      "\u001b[1;31m---------------------------------------------------------------------------\u001b[0m",
      "\u001b[1;31mKeyboardInterrupt\u001b[0m                         Traceback (most recent call last)",
      "\u001b[1;32m<ipython-input-46-155f7f41d976>\u001b[0m in \u001b[0;36m<module>\u001b[1;34m()\u001b[0m\n\u001b[0;32m     53\u001b[0m         \u001b[0mtest_accuracy\u001b[0m \u001b[1;33m=\u001b[0m \u001b[0msess\u001b[0m\u001b[1;33m.\u001b[0m\u001b[0mrun\u001b[0m\u001b[1;33m(\u001b[0m\u001b[0maccuracy\u001b[0m\u001b[1;33m,\u001b[0m \u001b[0mfeed_dict\u001b[0m\u001b[1;33m=\u001b[0m\u001b[1;33m{\u001b[0m\u001b[0mx\u001b[0m\u001b[1;33m:\u001b[0m \u001b[0mted\u001b[0m\u001b[1;33m,\u001b[0m \u001b[0my_\u001b[0m\u001b[1;33m:\u001b[0m \u001b[0mtel\u001b[0m\u001b[1;33m,\u001b[0m \u001b[0mkeep_prob\u001b[0m\u001b[1;33m:\u001b[0m \u001b[1;36m1.0\u001b[0m\u001b[1;33m}\u001b[0m\u001b[1;33m)\u001b[0m\u001b[1;33m\u001b[0m\u001b[0m\n\u001b[0;32m     54\u001b[0m         \u001b[0mprint\u001b[0m\u001b[1;33m(\u001b[0m\u001b[1;34m\"Epoch: %d, Training Accuracy: %f, Test Accuracy: %f\"\u001b[0m \u001b[1;33m%\u001b[0m \u001b[1;33m(\u001b[0m\u001b[0mtraining\u001b[0m\u001b[1;33m.\u001b[0m\u001b[0mepochs\u001b[0m\u001b[1;33m,\u001b[0m \u001b[0mtrain_accuracy\u001b[0m\u001b[1;33m,\u001b[0m \u001b[0mtest_accuracy\u001b[0m\u001b[1;33m)\u001b[0m\u001b[1;33m)\u001b[0m\u001b[1;33m\u001b[0m\u001b[0m\n\u001b[1;32m---> 55\u001b[1;33m     \u001b[0msess\u001b[0m\u001b[1;33m.\u001b[0m\u001b[0mrun\u001b[0m\u001b[1;33m(\u001b[0m\u001b[0mtrain_step\u001b[0m\u001b[1;33m,\u001b[0m \u001b[0mfeed_dict\u001b[0m\u001b[1;33m=\u001b[0m\u001b[1;33m{\u001b[0m\u001b[0mx\u001b[0m\u001b[1;33m:\u001b[0m \u001b[0mtrd\u001b[0m\u001b[1;33m,\u001b[0m \u001b[0my_\u001b[0m\u001b[1;33m:\u001b[0m \u001b[0mtrl\u001b[0m\u001b[1;33m,\u001b[0m \u001b[0mkeep_prob\u001b[0m\u001b[1;33m:\u001b[0m \u001b[1;36m0.5\u001b[0m\u001b[1;33m}\u001b[0m\u001b[1;33m)\u001b[0m\u001b[1;33m\u001b[0m\u001b[0m\n\u001b[0m\u001b[0;32m     56\u001b[0m     \u001b[0mN\u001b[0m \u001b[1;33m+=\u001b[0m \u001b[1;36m1\u001b[0m\u001b[1;33m\u001b[0m\u001b[0m\n",
      "\u001b[1;32mC:\\Users\\lgligic\\Anaconda3\\envs\\tensorflow\\lib\\site-packages\\tensorflow\\python\\client\\session.py\u001b[0m in \u001b[0;36mrun\u001b[1;34m(self, fetches, feed_dict, options, run_metadata)\u001b[0m\n\u001b[0;32m    776\u001b[0m     \u001b[1;32mtry\u001b[0m\u001b[1;33m:\u001b[0m\u001b[1;33m\u001b[0m\u001b[0m\n\u001b[0;32m    777\u001b[0m       result = self._run(None, fetches, feed_dict, options_ptr,\n\u001b[1;32m--> 778\u001b[1;33m                          run_metadata_ptr)\n\u001b[0m\u001b[0;32m    779\u001b[0m       \u001b[1;32mif\u001b[0m \u001b[0mrun_metadata\u001b[0m\u001b[1;33m:\u001b[0m\u001b[1;33m\u001b[0m\u001b[0m\n\u001b[0;32m    780\u001b[0m         \u001b[0mproto_data\u001b[0m \u001b[1;33m=\u001b[0m \u001b[0mtf_session\u001b[0m\u001b[1;33m.\u001b[0m\u001b[0mTF_GetBuffer\u001b[0m\u001b[1;33m(\u001b[0m\u001b[0mrun_metadata_ptr\u001b[0m\u001b[1;33m)\u001b[0m\u001b[1;33m\u001b[0m\u001b[0m\n",
      "\u001b[1;32mC:\\Users\\lgligic\\Anaconda3\\envs\\tensorflow\\lib\\site-packages\\tensorflow\\python\\client\\session.py\u001b[0m in \u001b[0;36m_run\u001b[1;34m(self, handle, fetches, feed_dict, options, run_metadata)\u001b[0m\n\u001b[0;32m    980\u001b[0m     \u001b[1;32mif\u001b[0m \u001b[0mfinal_fetches\u001b[0m \u001b[1;32mor\u001b[0m \u001b[0mfinal_targets\u001b[0m\u001b[1;33m:\u001b[0m\u001b[1;33m\u001b[0m\u001b[0m\n\u001b[0;32m    981\u001b[0m       results = self._do_run(handle, final_targets, final_fetches,\n\u001b[1;32m--> 982\u001b[1;33m                              feed_dict_string, options, run_metadata)\n\u001b[0m\u001b[0;32m    983\u001b[0m     \u001b[1;32melse\u001b[0m\u001b[1;33m:\u001b[0m\u001b[1;33m\u001b[0m\u001b[0m\n\u001b[0;32m    984\u001b[0m       \u001b[0mresults\u001b[0m \u001b[1;33m=\u001b[0m \u001b[1;33m[\u001b[0m\u001b[1;33m]\u001b[0m\u001b[1;33m\u001b[0m\u001b[0m\n",
      "\u001b[1;32mC:\\Users\\lgligic\\Anaconda3\\envs\\tensorflow\\lib\\site-packages\\tensorflow\\python\\client\\session.py\u001b[0m in \u001b[0;36m_do_run\u001b[1;34m(self, handle, target_list, fetch_list, feed_dict, options, run_metadata)\u001b[0m\n\u001b[0;32m   1030\u001b[0m     \u001b[1;32mif\u001b[0m \u001b[0mhandle\u001b[0m \u001b[1;32mis\u001b[0m \u001b[1;32mNone\u001b[0m\u001b[1;33m:\u001b[0m\u001b[1;33m\u001b[0m\u001b[0m\n\u001b[0;32m   1031\u001b[0m       return self._do_call(_run_fn, self._session, feed_dict, fetch_list,\n\u001b[1;32m-> 1032\u001b[1;33m                            target_list, options, run_metadata)\n\u001b[0m\u001b[0;32m   1033\u001b[0m     \u001b[1;32melse\u001b[0m\u001b[1;33m:\u001b[0m\u001b[1;33m\u001b[0m\u001b[0m\n\u001b[0;32m   1034\u001b[0m       return self._do_call(_prun_fn, self._session, handle, feed_dict,\n",
      "\u001b[1;32mC:\\Users\\lgligic\\Anaconda3\\envs\\tensorflow\\lib\\site-packages\\tensorflow\\python\\client\\session.py\u001b[0m in \u001b[0;36m_do_call\u001b[1;34m(self, fn, *args)\u001b[0m\n\u001b[0;32m   1037\u001b[0m   \u001b[1;32mdef\u001b[0m \u001b[0m_do_call\u001b[0m\u001b[1;33m(\u001b[0m\u001b[0mself\u001b[0m\u001b[1;33m,\u001b[0m \u001b[0mfn\u001b[0m\u001b[1;33m,\u001b[0m \u001b[1;33m*\u001b[0m\u001b[0margs\u001b[0m\u001b[1;33m)\u001b[0m\u001b[1;33m:\u001b[0m\u001b[1;33m\u001b[0m\u001b[0m\n\u001b[0;32m   1038\u001b[0m     \u001b[1;32mtry\u001b[0m\u001b[1;33m:\u001b[0m\u001b[1;33m\u001b[0m\u001b[0m\n\u001b[1;32m-> 1039\u001b[1;33m       \u001b[1;32mreturn\u001b[0m \u001b[0mfn\u001b[0m\u001b[1;33m(\u001b[0m\u001b[1;33m*\u001b[0m\u001b[0margs\u001b[0m\u001b[1;33m)\u001b[0m\u001b[1;33m\u001b[0m\u001b[0m\n\u001b[0m\u001b[0;32m   1040\u001b[0m     \u001b[1;32mexcept\u001b[0m \u001b[0merrors\u001b[0m\u001b[1;33m.\u001b[0m\u001b[0mOpError\u001b[0m \u001b[1;32mas\u001b[0m \u001b[0me\u001b[0m\u001b[1;33m:\u001b[0m\u001b[1;33m\u001b[0m\u001b[0m\n\u001b[0;32m   1041\u001b[0m       \u001b[0mmessage\u001b[0m \u001b[1;33m=\u001b[0m \u001b[0mcompat\u001b[0m\u001b[1;33m.\u001b[0m\u001b[0mas_text\u001b[0m\u001b[1;33m(\u001b[0m\u001b[0me\u001b[0m\u001b[1;33m.\u001b[0m\u001b[0mmessage\u001b[0m\u001b[1;33m)\u001b[0m\u001b[1;33m\u001b[0m\u001b[0m\n",
      "\u001b[1;32mC:\\Users\\lgligic\\Anaconda3\\envs\\tensorflow\\lib\\site-packages\\tensorflow\\python\\client\\session.py\u001b[0m in \u001b[0;36m_run_fn\u001b[1;34m(session, feed_dict, fetch_list, target_list, options, run_metadata)\u001b[0m\n\u001b[0;32m   1019\u001b[0m         return tf_session.TF_Run(session, options,\n\u001b[0;32m   1020\u001b[0m                                  \u001b[0mfeed_dict\u001b[0m\u001b[1;33m,\u001b[0m \u001b[0mfetch_list\u001b[0m\u001b[1;33m,\u001b[0m \u001b[0mtarget_list\u001b[0m\u001b[1;33m,\u001b[0m\u001b[1;33m\u001b[0m\u001b[0m\n\u001b[1;32m-> 1021\u001b[1;33m                                  status, run_metadata)\n\u001b[0m\u001b[0;32m   1022\u001b[0m \u001b[1;33m\u001b[0m\u001b[0m\n\u001b[0;32m   1023\u001b[0m     \u001b[1;32mdef\u001b[0m \u001b[0m_prun_fn\u001b[0m\u001b[1;33m(\u001b[0m\u001b[0msession\u001b[0m\u001b[1;33m,\u001b[0m \u001b[0mhandle\u001b[0m\u001b[1;33m,\u001b[0m \u001b[0mfeed_dict\u001b[0m\u001b[1;33m,\u001b[0m \u001b[0mfetch_list\u001b[0m\u001b[1;33m)\u001b[0m\u001b[1;33m:\u001b[0m\u001b[1;33m\u001b[0m\u001b[0m\n",
      "\u001b[1;31mKeyboardInterrupt\u001b[0m: "
     ]
    }
   ],
   "source": [
    "node_count_1 = 100\n",
    "node_count_2 = 100\n",
    "\n",
    "x = tf.placeholder(tf.float32, shape=[None, 100])\n",
    "y_ = tf.placeholder(tf.float32, shape=[None, 8])\n",
    "\n",
    "# Define the first layer here\n",
    "W1 = weight_variable([100, node_count_1])\n",
    "b1 = bias_variable([node_count_1])\n",
    "h1 = tf.nn.sigmoid(tf.matmul(x, W1) + b1)\n",
    "\n",
    "# Use dropout for this layer (should you wish)\n",
    "keep_prob = tf.placeholder(tf.float32)\n",
    "h_drop = tf.nn.dropout(h1, keep_prob)\n",
    "\n",
    "# Define the second layer here\n",
    "W2 = weight_variable([node_count_1, node_count_2])\n",
    "b2 = bias_variable([node_count_2])\n",
    "h2 = tf.nn.sigmoid(tf.matmul(h_drop, W2) + b2)\n",
    "\n",
    "# Define the output layer here\n",
    "V = weight_variable([node_count_2, 8])\n",
    "c = bias_variable([8])\n",
    "y = tf.nn.softmax(tf.matmul(h2, V) + c)\n",
    "\n",
    "# We'll use the cross entropy loss function \n",
    "cross_entropy = tf.reduce_mean(tf.nn.softmax_cross_entropy_with_logits(logits=y, labels=y_))\n",
    "\n",
    "# And classification accuracy\n",
    "correct_prediction = tf.equal(tf.argmax(y, 1), tf.argmax(y_, 1))\n",
    "accuracy = tf.reduce_mean(tf.cast(correct_prediction, tf.float32))\n",
    "\n",
    "# And the Adam optimiser\n",
    "train_step = tf.train.AdamOptimizer(learning_rate=1e-2).minimize(cross_entropy)\n",
    "\n",
    "# Start a tf session and run the optimisation algorithm\n",
    "sess = tf.Session()\n",
    "sess.run(tf.initialize_all_variables())\n",
    "\n",
    "training = Iterator(train_bow, train_labels_onehot_expanded)\n",
    "testing = Iterator(test_bow, test_labels_onehot)\n",
    "train_accuracy = 0\n",
    "test_accuracy = 0\n",
    "N = 0\n",
    "\n",
    "print(training.epochs)\n",
    "\n",
    "while training.epochs < 10000:\n",
    "    trd, trl = training.next_batch(50)\n",
    "    if N % 10000 == 0:\n",
    "        ted, tel = testing.next_batch(250)\n",
    "        train_accuracy = sess.run(accuracy, feed_dict={x: trd, y_: trl, keep_prob: 1.0})\n",
    "        test_accuracy = sess.run(accuracy, feed_dict={x: ted, y_: tel, keep_prob: 1.0})\n",
    "        print(\"Epoch: %d, Training Accuracy: %f, Test Accuracy: %f\" % (training.epochs, train_accuracy, test_accuracy))\n",
    "    sess.run(train_step, feed_dict={x: trd, y_: trl, keep_prob: 0.5})\n",
    "    N += 1"
   ]
  },
  {
   "cell_type": "code",
   "execution_count": 48,
   "metadata": {
    "collapsed": true
   },
   "outputs": [],
   "source": [
    "if not os.path.isfile('glove.6B.zip'):\n",
    "    urllib.request.urlretrieve(\"http://nlp.stanford.edu/data/glove.6B.zip\", filename=\"glove.6B.zip\")\n",
    "glove = {}\n",
    "with zipfile.ZipFile('glove.6B.zip', 'r') as z:\n",
    "    with z.open('glove.6B.50d.txt', 'r') as file:\n",
    "        for line in file:\n",
    "            tokens = line.decode().replace(\"\\r\",\"\").replace(\"\\n\",\"\").split()\n",
    "            if len(tokens) < 2: continue\n",
    "            word = tokens[0]\n",
    "            vec = np.array(list([float(i) for i in tokens[1:] if len(i) > 1]))\n",
    "            if vec.shape[0] < 50: continue\n",
    "            glove[word] = vec"
   ]
  },
  {
   "cell_type": "code",
   "execution_count": 51,
   "metadata": {},
   "outputs": [
    {
     "name": "stdout",
     "output_type": "stream",
     "text": [
      "8440\n"
     ]
    }
   ],
   "source": [
    "train_bow_glove = []\n",
    "\n",
    "for talk in train_data_expanded:\n",
    "    bow = np.zeros(50)\n",
    "    count = 0\n",
    "    for sent in talk:\n",
    "        for word in sent:\n",
    "            if word in glove:\n",
    "                bow += glove[word]\n",
    "                count += 1\n",
    "    bow = bow / count\n",
    "    train_bow_glove.append(bow)\n",
    "    \n",
    "print(len(train_bow_glove))"
   ]
  },
  {
   "cell_type": "code",
   "execution_count": 52,
   "metadata": {},
   "outputs": [
    {
     "name": "stdout",
     "output_type": "stream",
     "text": [
      "250\n"
     ]
    }
   ],
   "source": [
    "test_bow_glove = []\n",
    "\n",
    "for talk in test_data:\n",
    "    bow = np.zeros(50)\n",
    "    count = 0\n",
    "    for sent in talk:\n",
    "        for word in sent:\n",
    "            if word in glove:\n",
    "                bow += glove[word]\n",
    "                count += 1\n",
    "    bow = bow / count\n",
    "    test_bow_glove.append(bow)\n",
    "    \n",
    "print(len(test_bow_glove))"
   ]
  },
  {
   "cell_type": "code",
   "execution_count": 54,
   "metadata": {},
   "outputs": [
    {
     "name": "stdout",
     "output_type": "stream",
     "text": [
      "WARNING:tensorflow:From <ipython-input-54-4fa204fb0846>:39: initialize_all_variables (from tensorflow.python.ops.variables) is deprecated and will be removed after 2017-03-02.\n",
      "Instructions for updating:\n",
      "Use `tf.global_variables_initializer` instead.\n",
      "3518\n",
      "Epoch: 0, Training Accuracy: 0.100000, Test Accuracy: 0.024000\n",
      "Epoch: 59, Training Accuracy: 0.600000, Test Accuracy: 0.292000\n",
      "Epoch: 119, Training Accuracy: 0.560000, Test Accuracy: 0.292000\n",
      "Epoch: 178, Training Accuracy: 0.640000, Test Accuracy: 0.292000\n",
      "Epoch: 238, Training Accuracy: 0.580000, Test Accuracy: 0.296000\n",
      "Epoch: 297, Training Accuracy: 0.600000, Test Accuracy: 0.296000\n",
      "Epoch: 357, Training Accuracy: 0.600000, Test Accuracy: 0.296000\n",
      "Epoch: 416, Training Accuracy: 0.600000, Test Accuracy: 0.296000\n",
      "Epoch: 476, Training Accuracy: 0.600000, Test Accuracy: 0.296000\n",
      "Epoch: 535, Training Accuracy: 0.680000, Test Accuracy: 0.296000\n",
      "Epoch: 595, Training Accuracy: 0.660000, Test Accuracy: 0.296000\n",
      "Epoch: 654, Training Accuracy: 0.560000, Test Accuracy: 0.296000\n",
      "Epoch: 714, Training Accuracy: 0.820000, Test Accuracy: 0.296000\n",
      "Epoch: 773, Training Accuracy: 0.620000, Test Accuracy: 0.296000\n",
      "Epoch: 833, Training Accuracy: 0.640000, Test Accuracy: 0.296000\n",
      "Epoch: 892, Training Accuracy: 0.680000, Test Accuracy: 0.296000\n",
      "Epoch: 952, Training Accuracy: 0.680000, Test Accuracy: 0.296000\n",
      "Epoch: 1011, Training Accuracy: 0.600000, Test Accuracy: 0.296000\n",
      "Epoch: 1071, Training Accuracy: 0.720000, Test Accuracy: 0.296000\n",
      "Epoch: 1130, Training Accuracy: 0.660000, Test Accuracy: 0.296000\n",
      "Epoch: 1190, Training Accuracy: 0.680000, Test Accuracy: 0.296000\n",
      "Epoch: 1250, Training Accuracy: 0.740000, Test Accuracy: 0.296000\n",
      "Epoch: 1309, Training Accuracy: 0.620000, Test Accuracy: 0.296000\n",
      "Epoch: 1369, Training Accuracy: 0.660000, Test Accuracy: 0.292000\n",
      "Epoch: 1428, Training Accuracy: 0.620000, Test Accuracy: 0.296000\n",
      "Epoch: 1488, Training Accuracy: 0.720000, Test Accuracy: 0.296000\n",
      "Epoch: 1547, Training Accuracy: 0.660000, Test Accuracy: 0.296000\n",
      "Epoch: 1607, Training Accuracy: 0.620000, Test Accuracy: 0.296000\n",
      "Epoch: 1666, Training Accuracy: 0.620000, Test Accuracy: 0.296000\n",
      "Epoch: 1726, Training Accuracy: 0.680000, Test Accuracy: 0.296000\n",
      "Epoch: 1785, Training Accuracy: 0.620000, Test Accuracy: 0.296000\n",
      "Epoch: 1845, Training Accuracy: 0.640000, Test Accuracy: 0.296000\n",
      "Epoch: 1904, Training Accuracy: 0.620000, Test Accuracy: 0.296000\n",
      "Epoch: 1964, Training Accuracy: 0.640000, Test Accuracy: 0.296000\n",
      "Epoch: 2023, Training Accuracy: 0.800000, Test Accuracy: 0.296000\n",
      "Epoch: 2083, Training Accuracy: 0.640000, Test Accuracy: 0.296000\n",
      "Epoch: 2142, Training Accuracy: 0.620000, Test Accuracy: 0.296000\n",
      "Epoch: 2202, Training Accuracy: 0.560000, Test Accuracy: 0.296000\n",
      "Epoch: 2261, Training Accuracy: 0.620000, Test Accuracy: 0.296000\n",
      "Epoch: 2321, Training Accuracy: 0.600000, Test Accuracy: 0.296000\n",
      "Epoch: 2380, Training Accuracy: 0.780000, Test Accuracy: 0.296000\n",
      "Epoch: 2440, Training Accuracy: 0.780000, Test Accuracy: 0.296000\n",
      "Epoch: 2500, Training Accuracy: 0.720000, Test Accuracy: 0.296000\n",
      "Epoch: 2559, Training Accuracy: 0.660000, Test Accuracy: 0.296000\n",
      "Epoch: 2619, Training Accuracy: 0.720000, Test Accuracy: 0.296000\n",
      "Epoch: 2678, Training Accuracy: 0.720000, Test Accuracy: 0.296000\n",
      "Epoch: 2738, Training Accuracy: 0.680000, Test Accuracy: 0.296000\n",
      "Epoch: 2797, Training Accuracy: 0.660000, Test Accuracy: 0.296000\n",
      "Epoch: 2857, Training Accuracy: 0.660000, Test Accuracy: 0.296000\n",
      "Epoch: 2916, Training Accuracy: 0.700000, Test Accuracy: 0.296000\n",
      "Epoch: 2976, Training Accuracy: 0.800000, Test Accuracy: 0.296000\n",
      "Epoch: 3035, Training Accuracy: 0.660000, Test Accuracy: 0.296000\n",
      "Epoch: 3095, Training Accuracy: 0.660000, Test Accuracy: 0.296000\n",
      "Epoch: 3154, Training Accuracy: 0.640000, Test Accuracy: 0.296000\n",
      "Epoch: 3214, Training Accuracy: 0.700000, Test Accuracy: 0.296000\n",
      "Epoch: 3273, Training Accuracy: 0.740000, Test Accuracy: 0.296000\n",
      "Epoch: 3333, Training Accuracy: 0.540000, Test Accuracy: 0.296000\n",
      "Epoch: 3392, Training Accuracy: 0.520000, Test Accuracy: 0.296000\n",
      "Epoch: 3452, Training Accuracy: 0.660000, Test Accuracy: 0.296000\n",
      "Epoch: 3511, Training Accuracy: 0.580000, Test Accuracy: 0.296000\n",
      "Epoch: 3571, Training Accuracy: 0.680000, Test Accuracy: 0.296000\n",
      "Epoch: 3630, Training Accuracy: 0.600000, Test Accuracy: 0.296000\n",
      "Epoch: 3690, Training Accuracy: 0.580000, Test Accuracy: 0.296000\n",
      "Epoch: 3750, Training Accuracy: 0.560000, Test Accuracy: 0.296000\n",
      "Epoch: 3809, Training Accuracy: 0.660000, Test Accuracy: 0.296000\n",
      "Epoch: 3869, Training Accuracy: 0.640000, Test Accuracy: 0.296000\n",
      "Epoch: 3928, Training Accuracy: 0.640000, Test Accuracy: 0.296000\n",
      "Epoch: 3988, Training Accuracy: 0.640000, Test Accuracy: 0.296000\n",
      "Epoch: 4047, Training Accuracy: 0.660000, Test Accuracy: 0.296000\n",
      "Epoch: 4107, Training Accuracy: 0.760000, Test Accuracy: 0.296000\n",
      "Epoch: 4166, Training Accuracy: 0.640000, Test Accuracy: 0.296000\n",
      "Epoch: 4226, Training Accuracy: 0.700000, Test Accuracy: 0.296000\n",
      "Epoch: 4285, Training Accuracy: 0.720000, Test Accuracy: 0.296000\n",
      "Epoch: 4345, Training Accuracy: 0.580000, Test Accuracy: 0.296000\n",
      "Epoch: 4404, Training Accuracy: 0.680000, Test Accuracy: 0.296000\n",
      "Epoch: 4464, Training Accuracy: 0.640000, Test Accuracy: 0.296000\n",
      "Epoch: 4523, Training Accuracy: 0.480000, Test Accuracy: 0.296000\n",
      "Epoch: 4583, Training Accuracy: 0.600000, Test Accuracy: 0.296000\n",
      "Epoch: 4642, Training Accuracy: 0.560000, Test Accuracy: 0.296000\n",
      "Epoch: 4702, Training Accuracy: 0.640000, Test Accuracy: 0.296000\n",
      "Epoch: 4761, Training Accuracy: 0.540000, Test Accuracy: 0.296000\n",
      "Epoch: 4821, Training Accuracy: 0.720000, Test Accuracy: 0.296000\n",
      "Epoch: 4880, Training Accuracy: 0.640000, Test Accuracy: 0.296000\n",
      "Epoch: 4940, Training Accuracy: 0.540000, Test Accuracy: 0.296000\n",
      "Epoch: 5000, Training Accuracy: 0.680000, Test Accuracy: 0.296000\n",
      "Epoch: 5059, Training Accuracy: 0.680000, Test Accuracy: 0.296000\n",
      "Epoch: 5119, Training Accuracy: 0.720000, Test Accuracy: 0.296000\n",
      "Epoch: 5178, Training Accuracy: 0.700000, Test Accuracy: 0.296000\n",
      "Epoch: 5238, Training Accuracy: 0.660000, Test Accuracy: 0.296000\n",
      "Epoch: 5297, Training Accuracy: 0.620000, Test Accuracy: 0.296000\n",
      "Epoch: 5357, Training Accuracy: 0.700000, Test Accuracy: 0.296000\n",
      "Epoch: 5416, Training Accuracy: 0.520000, Test Accuracy: 0.296000\n",
      "Epoch: 5476, Training Accuracy: 0.620000, Test Accuracy: 0.296000\n",
      "Epoch: 5535, Training Accuracy: 0.680000, Test Accuracy: 0.296000\n",
      "Epoch: 5595, Training Accuracy: 0.640000, Test Accuracy: 0.296000\n",
      "Epoch: 5654, Training Accuracy: 0.640000, Test Accuracy: 0.296000\n",
      "Epoch: 5714, Training Accuracy: 0.620000, Test Accuracy: 0.296000\n",
      "Epoch: 5773, Training Accuracy: 0.560000, Test Accuracy: 0.296000\n",
      "Epoch: 5833, Training Accuracy: 0.620000, Test Accuracy: 0.296000\n",
      "Epoch: 5892, Training Accuracy: 0.560000, Test Accuracy: 0.296000\n",
      "Epoch: 5952, Training Accuracy: 0.720000, Test Accuracy: 0.296000\n",
      "Epoch: 6011, Training Accuracy: 0.660000, Test Accuracy: 0.296000\n"
     ]
    },
    {
     "ename": "KeyboardInterrupt",
     "evalue": "",
     "output_type": "error",
     "traceback": [
      "\u001b[1;31m---------------------------------------------------------------------------\u001b[0m",
      "\u001b[1;31mKeyboardInterrupt\u001b[0m                         Traceback (most recent call last)",
      "\u001b[1;32m<ipython-input-54-4fa204fb0846>\u001b[0m in \u001b[0;36m<module>\u001b[1;34m()\u001b[0m\n\u001b[0;32m     54\u001b[0m         \u001b[0mtest_accuracy\u001b[0m \u001b[1;33m=\u001b[0m \u001b[0msess\u001b[0m\u001b[1;33m.\u001b[0m\u001b[0mrun\u001b[0m\u001b[1;33m(\u001b[0m\u001b[0maccuracy\u001b[0m\u001b[1;33m,\u001b[0m \u001b[0mfeed_dict\u001b[0m\u001b[1;33m=\u001b[0m\u001b[1;33m{\u001b[0m\u001b[0mx\u001b[0m\u001b[1;33m:\u001b[0m \u001b[0mted\u001b[0m\u001b[1;33m,\u001b[0m \u001b[0my_\u001b[0m\u001b[1;33m:\u001b[0m \u001b[0mtel\u001b[0m\u001b[1;33m,\u001b[0m \u001b[0mkeep_prob\u001b[0m\u001b[1;33m:\u001b[0m \u001b[1;36m1.0\u001b[0m\u001b[1;33m}\u001b[0m\u001b[1;33m)\u001b[0m\u001b[1;33m\u001b[0m\u001b[0m\n\u001b[0;32m     55\u001b[0m         \u001b[0mprint\u001b[0m\u001b[1;33m(\u001b[0m\u001b[1;34m\"Epoch: %d, Training Accuracy: %f, Test Accuracy: %f\"\u001b[0m \u001b[1;33m%\u001b[0m \u001b[1;33m(\u001b[0m\u001b[0mtraining_glove\u001b[0m\u001b[1;33m.\u001b[0m\u001b[0mepochs\u001b[0m\u001b[1;33m,\u001b[0m \u001b[0mtrain_accuracy\u001b[0m\u001b[1;33m,\u001b[0m \u001b[0mtest_accuracy\u001b[0m\u001b[1;33m)\u001b[0m\u001b[1;33m)\u001b[0m\u001b[1;33m\u001b[0m\u001b[0m\n\u001b[1;32m---> 56\u001b[1;33m     \u001b[0msess\u001b[0m\u001b[1;33m.\u001b[0m\u001b[0mrun\u001b[0m\u001b[1;33m(\u001b[0m\u001b[0mtrain_step\u001b[0m\u001b[1;33m,\u001b[0m \u001b[0mfeed_dict\u001b[0m\u001b[1;33m=\u001b[0m\u001b[1;33m{\u001b[0m\u001b[0mx\u001b[0m\u001b[1;33m:\u001b[0m \u001b[0mtrd\u001b[0m\u001b[1;33m,\u001b[0m \u001b[0my_\u001b[0m\u001b[1;33m:\u001b[0m \u001b[0mtrl\u001b[0m\u001b[1;33m,\u001b[0m \u001b[0mkeep_prob\u001b[0m\u001b[1;33m:\u001b[0m \u001b[1;36m0.5\u001b[0m\u001b[1;33m}\u001b[0m\u001b[1;33m)\u001b[0m\u001b[1;33m\u001b[0m\u001b[0m\n\u001b[0m\u001b[0;32m     57\u001b[0m     \u001b[0mN\u001b[0m \u001b[1;33m+=\u001b[0m \u001b[1;36m1\u001b[0m\u001b[1;33m\u001b[0m\u001b[0m\n",
      "\u001b[1;32mC:\\Users\\lgligic\\Anaconda3\\envs\\tensorflow\\lib\\site-packages\\tensorflow\\python\\client\\session.py\u001b[0m in \u001b[0;36mrun\u001b[1;34m(self, fetches, feed_dict, options, run_metadata)\u001b[0m\n\u001b[0;32m    776\u001b[0m     \u001b[1;32mtry\u001b[0m\u001b[1;33m:\u001b[0m\u001b[1;33m\u001b[0m\u001b[0m\n\u001b[0;32m    777\u001b[0m       result = self._run(None, fetches, feed_dict, options_ptr,\n\u001b[1;32m--> 778\u001b[1;33m                          run_metadata_ptr)\n\u001b[0m\u001b[0;32m    779\u001b[0m       \u001b[1;32mif\u001b[0m \u001b[0mrun_metadata\u001b[0m\u001b[1;33m:\u001b[0m\u001b[1;33m\u001b[0m\u001b[0m\n\u001b[0;32m    780\u001b[0m         \u001b[0mproto_data\u001b[0m \u001b[1;33m=\u001b[0m \u001b[0mtf_session\u001b[0m\u001b[1;33m.\u001b[0m\u001b[0mTF_GetBuffer\u001b[0m\u001b[1;33m(\u001b[0m\u001b[0mrun_metadata_ptr\u001b[0m\u001b[1;33m)\u001b[0m\u001b[1;33m\u001b[0m\u001b[0m\n",
      "\u001b[1;32mC:\\Users\\lgligic\\Anaconda3\\envs\\tensorflow\\lib\\site-packages\\tensorflow\\python\\client\\session.py\u001b[0m in \u001b[0;36m_run\u001b[1;34m(self, handle, fetches, feed_dict, options, run_metadata)\u001b[0m\n\u001b[0;32m    980\u001b[0m     \u001b[1;32mif\u001b[0m \u001b[0mfinal_fetches\u001b[0m \u001b[1;32mor\u001b[0m \u001b[0mfinal_targets\u001b[0m\u001b[1;33m:\u001b[0m\u001b[1;33m\u001b[0m\u001b[0m\n\u001b[0;32m    981\u001b[0m       results = self._do_run(handle, final_targets, final_fetches,\n\u001b[1;32m--> 982\u001b[1;33m                              feed_dict_string, options, run_metadata)\n\u001b[0m\u001b[0;32m    983\u001b[0m     \u001b[1;32melse\u001b[0m\u001b[1;33m:\u001b[0m\u001b[1;33m\u001b[0m\u001b[0m\n\u001b[0;32m    984\u001b[0m       \u001b[0mresults\u001b[0m \u001b[1;33m=\u001b[0m \u001b[1;33m[\u001b[0m\u001b[1;33m]\u001b[0m\u001b[1;33m\u001b[0m\u001b[0m\n",
      "\u001b[1;32mC:\\Users\\lgligic\\Anaconda3\\envs\\tensorflow\\lib\\site-packages\\tensorflow\\python\\client\\session.py\u001b[0m in \u001b[0;36m_do_run\u001b[1;34m(self, handle, target_list, fetch_list, feed_dict, options, run_metadata)\u001b[0m\n\u001b[0;32m   1030\u001b[0m     \u001b[1;32mif\u001b[0m \u001b[0mhandle\u001b[0m \u001b[1;32mis\u001b[0m \u001b[1;32mNone\u001b[0m\u001b[1;33m:\u001b[0m\u001b[1;33m\u001b[0m\u001b[0m\n\u001b[0;32m   1031\u001b[0m       return self._do_call(_run_fn, self._session, feed_dict, fetch_list,\n\u001b[1;32m-> 1032\u001b[1;33m                            target_list, options, run_metadata)\n\u001b[0m\u001b[0;32m   1033\u001b[0m     \u001b[1;32melse\u001b[0m\u001b[1;33m:\u001b[0m\u001b[1;33m\u001b[0m\u001b[0m\n\u001b[0;32m   1034\u001b[0m       return self._do_call(_prun_fn, self._session, handle, feed_dict,\n",
      "\u001b[1;32mC:\\Users\\lgligic\\Anaconda3\\envs\\tensorflow\\lib\\site-packages\\tensorflow\\python\\client\\session.py\u001b[0m in \u001b[0;36m_do_call\u001b[1;34m(self, fn, *args)\u001b[0m\n\u001b[0;32m   1037\u001b[0m   \u001b[1;32mdef\u001b[0m \u001b[0m_do_call\u001b[0m\u001b[1;33m(\u001b[0m\u001b[0mself\u001b[0m\u001b[1;33m,\u001b[0m \u001b[0mfn\u001b[0m\u001b[1;33m,\u001b[0m \u001b[1;33m*\u001b[0m\u001b[0margs\u001b[0m\u001b[1;33m)\u001b[0m\u001b[1;33m:\u001b[0m\u001b[1;33m\u001b[0m\u001b[0m\n\u001b[0;32m   1038\u001b[0m     \u001b[1;32mtry\u001b[0m\u001b[1;33m:\u001b[0m\u001b[1;33m\u001b[0m\u001b[0m\n\u001b[1;32m-> 1039\u001b[1;33m       \u001b[1;32mreturn\u001b[0m \u001b[0mfn\u001b[0m\u001b[1;33m(\u001b[0m\u001b[1;33m*\u001b[0m\u001b[0margs\u001b[0m\u001b[1;33m)\u001b[0m\u001b[1;33m\u001b[0m\u001b[0m\n\u001b[0m\u001b[0;32m   1040\u001b[0m     \u001b[1;32mexcept\u001b[0m \u001b[0merrors\u001b[0m\u001b[1;33m.\u001b[0m\u001b[0mOpError\u001b[0m \u001b[1;32mas\u001b[0m \u001b[0me\u001b[0m\u001b[1;33m:\u001b[0m\u001b[1;33m\u001b[0m\u001b[0m\n\u001b[0;32m   1041\u001b[0m       \u001b[0mmessage\u001b[0m \u001b[1;33m=\u001b[0m \u001b[0mcompat\u001b[0m\u001b[1;33m.\u001b[0m\u001b[0mas_text\u001b[0m\u001b[1;33m(\u001b[0m\u001b[0me\u001b[0m\u001b[1;33m.\u001b[0m\u001b[0mmessage\u001b[0m\u001b[1;33m)\u001b[0m\u001b[1;33m\u001b[0m\u001b[0m\n",
      "\u001b[1;32mC:\\Users\\lgligic\\Anaconda3\\envs\\tensorflow\\lib\\site-packages\\tensorflow\\python\\client\\session.py\u001b[0m in \u001b[0;36m_run_fn\u001b[1;34m(session, feed_dict, fetch_list, target_list, options, run_metadata)\u001b[0m\n\u001b[0;32m   1019\u001b[0m         return tf_session.TF_Run(session, options,\n\u001b[0;32m   1020\u001b[0m                                  \u001b[0mfeed_dict\u001b[0m\u001b[1;33m,\u001b[0m \u001b[0mfetch_list\u001b[0m\u001b[1;33m,\u001b[0m \u001b[0mtarget_list\u001b[0m\u001b[1;33m,\u001b[0m\u001b[1;33m\u001b[0m\u001b[0m\n\u001b[1;32m-> 1021\u001b[1;33m                                  status, run_metadata)\n\u001b[0m\u001b[0;32m   1022\u001b[0m \u001b[1;33m\u001b[0m\u001b[0m\n\u001b[0;32m   1023\u001b[0m     \u001b[1;32mdef\u001b[0m \u001b[0m_prun_fn\u001b[0m\u001b[1;33m(\u001b[0m\u001b[0msession\u001b[0m\u001b[1;33m,\u001b[0m \u001b[0mhandle\u001b[0m\u001b[1;33m,\u001b[0m \u001b[0mfeed_dict\u001b[0m\u001b[1;33m,\u001b[0m \u001b[0mfetch_list\u001b[0m\u001b[1;33m)\u001b[0m\u001b[1;33m:\u001b[0m\u001b[1;33m\u001b[0m\u001b[0m\n",
      "\u001b[1;31mKeyboardInterrupt\u001b[0m: "
     ]
    }
   ],
   "source": [
    "embedding_size = 50\n",
    "node_count_1 = 100\n",
    "node_count_2 = 100\n",
    "\n",
    "x = tf.placeholder(tf.float32, shape=[None, embedding_size])\n",
    "y_ = tf.placeholder(tf.float32, shape=[None, 8])\n",
    "\n",
    "# Define the first layer here\n",
    "W1 = weight_variable([embedding_size, node_count_1])\n",
    "b1 = bias_variable([node_count_1])\n",
    "h1 = tf.nn.sigmoid(tf.matmul(x, W1) + b1)\n",
    "\n",
    "# Use dropout for this layer (should you wish)\n",
    "keep_prob = tf.placeholder(tf.float32)\n",
    "h_drop = tf.nn.dropout(h1, keep_prob)\n",
    "\n",
    "# Define the second layer here\n",
    "W2 = weight_variable([node_count_1, node_count_2])\n",
    "b2 = bias_variable([node_count_2])\n",
    "h2 = tf.nn.sigmoid(tf.matmul(h_drop, W2) + b2)\n",
    "\n",
    "# Define the output layer here\n",
    "V = weight_variable([node_count_2, 8])\n",
    "c = bias_variable([8])\n",
    "y = tf.nn.softmax(tf.matmul(h2, V) + c)\n",
    "\n",
    "# We'll use the cross entropy loss function \n",
    "cross_entropy = tf.reduce_mean(tf.nn.softmax_cross_entropy_with_logits(logits=y, labels=y_))\n",
    "\n",
    "# And classification accuracy\n",
    "correct_prediction = tf.equal(tf.argmax(y, 1), tf.argmax(y_, 1))\n",
    "accuracy = tf.reduce_mean(tf.cast(correct_prediction, tf.float32))\n",
    "\n",
    "# And the Adam optimiser\n",
    "train_step = tf.train.AdamOptimizer(learning_rate=1e-2).minimize(cross_entropy)\n",
    "\n",
    "# Start a tf session and run the optimisation algorithm\n",
    "sess = tf.Session()\n",
    "sess.run(tf.initialize_all_variables())\n",
    "\n",
    "training_glove = Iterator(train_bow_glove, train_labels_onehot_expanded)\n",
    "testing_glove = Iterator(test_bow_glove, test_labels_onehot)\n",
    "train_accuracy = 0\n",
    "test_accuracy = 0\n",
    "N = 0\n",
    "\n",
    "print(training.epochs)\n",
    "\n",
    "while training_glove.epochs < 10000:\n",
    "    trd, trl = training_glove.next_batch(50)\n",
    "    if N % 10000 == 0:\n",
    "        ted, tel = testing_glove.next_batch(250)\n",
    "        train_accuracy = sess.run(accuracy, feed_dict={x: trd, y_: trl, keep_prob: 1.0})\n",
    "        test_accuracy = sess.run(accuracy, feed_dict={x: ted, y_: tel, keep_prob: 1.0})\n",
    "        print(\"Epoch: %d, Training Accuracy: %f, Test Accuracy: %f\" % (training_glove.epochs, train_accuracy, test_accuracy))\n",
    "    sess.run(train_step, feed_dict={x: trd, y_: trl, keep_prob: 0.5})\n",
    "    N += 1"
   ]
  },
  {
   "cell_type": "code",
   "execution_count": null,
   "metadata": {
    "collapsed": true
   },
   "outputs": [],
   "source": []
  }
 ],
 "metadata": {
  "anaconda-cloud": {},
  "kernelspec": {
   "display_name": "Python [conda env:tensorflow]",
   "language": "python",
   "name": "conda-env-tensorflow-py"
  },
  "language_info": {
   "codemirror_mode": {
    "name": "ipython",
    "version": 3
   },
   "file_extension": ".py",
   "mimetype": "text/x-python",
   "name": "python",
   "nbconvert_exporter": "python",
   "pygments_lexer": "ipython3",
   "version": "3.5.3"
  }
 },
 "nbformat": 4,
 "nbformat_minor": 1
}
